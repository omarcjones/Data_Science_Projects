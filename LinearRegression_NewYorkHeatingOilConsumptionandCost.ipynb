{
 "cells": [
  {
   "cell_type": "markdown",
   "metadata": {},
   "source": [
    "# Linear Regression Model on Heating Oil Consumption and Cost"
   ]
  },
  {
   "cell_type": "markdown",
   "metadata": {},
   "source": [
    "### Understanding the Data"
   ]
  },
  {
   "cell_type": "markdown",
   "metadata": {},
   "source": [
    "This dataset provides monthly consumption and cost data for heating oil in New York City, broken down by borough and development. The data includes information on utility vendors and meters, making it possible to track trends over time"
   ]
  },
  {
   "cell_type": "markdown",
   "metadata": {},
   "source": [
    "## Importing Needed Packages"
   ]
  },
  {
   "cell_type": "code",
   "execution_count": 1,
   "metadata": {},
   "outputs": [],
   "source": [
    "import matplotlib.pyplot as plt\n",
    "import pandas as pd\n",
    "import pylab as pl\n",
    "import numpy as np\n",
    "%matplotlib inline"
   ]
  },
  {
   "cell_type": "markdown",
   "metadata": {},
   "source": [
    "## Reading the data in"
   ]
  },
  {
   "cell_type": "code",
   "execution_count": 3,
   "metadata": {},
   "outputs": [
    {
     "data": {
      "text/html": [
       "<div>\n",
       "<style scoped>\n",
       "    .dataframe tbody tr th:only-of-type {\n",
       "        vertical-align: middle;\n",
       "    }\n",
       "\n",
       "    .dataframe tbody tr th {\n",
       "        vertical-align: top;\n",
       "    }\n",
       "\n",
       "    .dataframe thead th {\n",
       "        text-align: right;\n",
       "    }\n",
       "</style>\n",
       "<table border=\"1\" class=\"dataframe\">\n",
       "  <thead>\n",
       "    <tr style=\"text-align: right;\">\n",
       "      <th></th>\n",
       "      <th>index</th>\n",
       "      <th>Development Name</th>\n",
       "      <th>Borough</th>\n",
       "      <th>Account Name</th>\n",
       "      <th>Location</th>\n",
       "      <th>Meter AMR</th>\n",
       "      <th>Meter Scope</th>\n",
       "      <th>TDS #</th>\n",
       "      <th>EDP</th>\n",
       "      <th>RC Code</th>\n",
       "      <th>...</th>\n",
       "      <th>Vendor Name</th>\n",
       "      <th>UMIS BILL ID</th>\n",
       "      <th>Revenue Month</th>\n",
       "      <th>Service Start Date</th>\n",
       "      <th>Service End Date</th>\n",
       "      <th># days</th>\n",
       "      <th>Meter Number</th>\n",
       "      <th>Estimated</th>\n",
       "      <th>Current Charges</th>\n",
       "      <th>Consumption (GAL)</th>\n",
       "    </tr>\n",
       "  </thead>\n",
       "  <tbody>\n",
       "    <tr>\n",
       "      <th>0</th>\n",
       "      <td>0</td>\n",
       "      <td>ADAMS</td>\n",
       "      <td>BRONX</td>\n",
       "      <td>ADAMS</td>\n",
       "      <td>NaN</td>\n",
       "      <td>Not Applicable</td>\n",
       "      <td>NaN</td>\n",
       "      <td>118</td>\n",
       "      <td>248</td>\n",
       "      <td>B011800</td>\n",
       "      <td>...</td>\n",
       "      <td>S.J. Fuel Co., Inc.</td>\n",
       "      <td>2897085</td>\n",
       "      <td>2010-01</td>\n",
       "      <td>12/24/2009</td>\n",
       "      <td>01/26/2010</td>\n",
       "      <td>33</td>\n",
       "      <td>395416152700002-OIL</td>\n",
       "      <td>N</td>\n",
       "      <td>303.47</td>\n",
       "      <td>148.0</td>\n",
       "    </tr>\n",
       "    <tr>\n",
       "      <th>1</th>\n",
       "      <td>1</td>\n",
       "      <td>ADAMS</td>\n",
       "      <td>BRONX</td>\n",
       "      <td>ADAMS</td>\n",
       "      <td>NaN</td>\n",
       "      <td>Not Applicable</td>\n",
       "      <td>NaN</td>\n",
       "      <td>118</td>\n",
       "      <td>248</td>\n",
       "      <td>B011800</td>\n",
       "      <td>...</td>\n",
       "      <td>S.J. Fuel Co., Inc.</td>\n",
       "      <td>2897086</td>\n",
       "      <td>2010-02</td>\n",
       "      <td>01/26/2010</td>\n",
       "      <td>02/25/2010</td>\n",
       "      <td>30</td>\n",
       "      <td>395416152700002-OIL</td>\n",
       "      <td>N</td>\n",
       "      <td>504.41</td>\n",
       "      <td>246.0</td>\n",
       "    </tr>\n",
       "    <tr>\n",
       "      <th>2</th>\n",
       "      <td>2</td>\n",
       "      <td>ADAMS</td>\n",
       "      <td>BRONX</td>\n",
       "      <td>ADAMS</td>\n",
       "      <td>NaN</td>\n",
       "      <td>Not Applicable</td>\n",
       "      <td>NaN</td>\n",
       "      <td>118</td>\n",
       "      <td>248</td>\n",
       "      <td>B011800</td>\n",
       "      <td>...</td>\n",
       "      <td>S.J. Fuel Co., Inc.</td>\n",
       "      <td>2897087</td>\n",
       "      <td>2010-03</td>\n",
       "      <td>02/25/2010</td>\n",
       "      <td>03/26/2010</td>\n",
       "      <td>29</td>\n",
       "      <td>395416152700002-OIL</td>\n",
       "      <td>N</td>\n",
       "      <td>200.94</td>\n",
       "      <td>98.0</td>\n",
       "    </tr>\n",
       "    <tr>\n",
       "      <th>3</th>\n",
       "      <td>3</td>\n",
       "      <td>ADAMS</td>\n",
       "      <td>BRONX</td>\n",
       "      <td>ADAMS</td>\n",
       "      <td>NaN</td>\n",
       "      <td>Not Applicable</td>\n",
       "      <td>NaN</td>\n",
       "      <td>118</td>\n",
       "      <td>248</td>\n",
       "      <td>B011800</td>\n",
       "      <td>...</td>\n",
       "      <td>S.J. Fuel Co., Inc.</td>\n",
       "      <td>2897088</td>\n",
       "      <td>2010-05</td>\n",
       "      <td>04/26/2010</td>\n",
       "      <td>05/24/2010</td>\n",
       "      <td>28</td>\n",
       "      <td>395416152700002-OIL</td>\n",
       "      <td>N</td>\n",
       "      <td>789.42</td>\n",
       "      <td>385.0</td>\n",
       "    </tr>\n",
       "    <tr>\n",
       "      <th>4</th>\n",
       "      <td>4</td>\n",
       "      <td>ADAMS</td>\n",
       "      <td>BRONX</td>\n",
       "      <td>ADAMS</td>\n",
       "      <td>NaN</td>\n",
       "      <td>Not Applicable</td>\n",
       "      <td>NaN</td>\n",
       "      <td>118</td>\n",
       "      <td>248</td>\n",
       "      <td>B011800</td>\n",
       "      <td>...</td>\n",
       "      <td>S.J. Fuel Co., Inc.</td>\n",
       "      <td>2897089</td>\n",
       "      <td>2010-06</td>\n",
       "      <td>05/24/2010</td>\n",
       "      <td>06/23/2010</td>\n",
       "      <td>30</td>\n",
       "      <td>395416152700002-OIL</td>\n",
       "      <td>N</td>\n",
       "      <td>488.01</td>\n",
       "      <td>238.0</td>\n",
       "    </tr>\n",
       "  </tbody>\n",
       "</table>\n",
       "<p>5 rows × 22 columns</p>\n",
       "</div>"
      ],
      "text/plain": [
       "   index Development Name Borough Account Name Location       Meter AMR  \\\n",
       "0      0            ADAMS   BRONX        ADAMS      NaN  Not Applicable   \n",
       "1      1            ADAMS   BRONX        ADAMS      NaN  Not Applicable   \n",
       "2      2            ADAMS   BRONX        ADAMS      NaN  Not Applicable   \n",
       "3      3            ADAMS   BRONX        ADAMS      NaN  Not Applicable   \n",
       "4      4            ADAMS   BRONX        ADAMS      NaN  Not Applicable   \n",
       "\n",
       "  Meter Scope  TDS #  EDP  RC Code  ...          Vendor Name UMIS BILL ID  \\\n",
       "0         NaN    118  248  B011800  ...  S.J. Fuel Co., Inc.      2897085   \n",
       "1         NaN    118  248  B011800  ...  S.J. Fuel Co., Inc.      2897086   \n",
       "2         NaN    118  248  B011800  ...  S.J. Fuel Co., Inc.      2897087   \n",
       "3         NaN    118  248  B011800  ...  S.J. Fuel Co., Inc.      2897088   \n",
       "4         NaN    118  248  B011800  ...  S.J. Fuel Co., Inc.      2897089   \n",
       "\n",
       "  Revenue Month  Service Start Date Service End Date # days  \\\n",
       "0       2010-01          12/24/2009       01/26/2010     33   \n",
       "1       2010-02          01/26/2010       02/25/2010     30   \n",
       "2       2010-03          02/25/2010       03/26/2010     29   \n",
       "3       2010-05          04/26/2010       05/24/2010     28   \n",
       "4       2010-06          05/24/2010       06/23/2010     30   \n",
       "\n",
       "          Meter Number  Estimated Current Charges Consumption (GAL)  \n",
       "0  395416152700002-OIL          N          303.47             148.0  \n",
       "1  395416152700002-OIL          N          504.41             246.0  \n",
       "2  395416152700002-OIL          N          200.94              98.0  \n",
       "3  395416152700002-OIL          N          789.42             385.0  \n",
       "4  395416152700002-OIL          N          488.01             238.0  \n",
       "\n",
       "[5 rows x 22 columns]"
      ]
     },
     "execution_count": 3,
     "metadata": {},
     "output_type": "execute_result"
    }
   ],
   "source": [
    "df = pd.read_csv(\"nyoilconsumption.csv\")\n",
    "#take a look at the dataset\n",
    "df.head()"
   ]
  },
  {
   "cell_type": "markdown",
   "metadata": {},
   "source": [
    "## Data Exploration"
   ]
  },
  {
   "cell_type": "markdown",
   "metadata": {},
   "source": [
    "It is important to look at general statistics of our data."
   ]
  },
  {
   "cell_type": "code",
   "execution_count": 4,
   "metadata": {},
   "outputs": [
    {
     "data": {
      "text/html": [
       "<div>\n",
       "<style scoped>\n",
       "    .dataframe tbody tr th:only-of-type {\n",
       "        vertical-align: middle;\n",
       "    }\n",
       "\n",
       "    .dataframe tbody tr th {\n",
       "        vertical-align: top;\n",
       "    }\n",
       "\n",
       "    .dataframe thead th {\n",
       "        text-align: right;\n",
       "    }\n",
       "</style>\n",
       "<table border=\"1\" class=\"dataframe\">\n",
       "  <thead>\n",
       "    <tr style=\"text-align: right;\">\n",
       "      <th></th>\n",
       "      <th>index</th>\n",
       "      <th>TDS #</th>\n",
       "      <th>EDP</th>\n",
       "      <th>UMIS BILL ID</th>\n",
       "      <th># days</th>\n",
       "      <th>Current Charges</th>\n",
       "      <th>Consumption (GAL)</th>\n",
       "    </tr>\n",
       "  </thead>\n",
       "  <tbody>\n",
       "    <tr>\n",
       "      <th>count</th>\n",
       "      <td>14628.000000</td>\n",
       "      <td>14628.000000</td>\n",
       "      <td>14628.000000</td>\n",
       "      <td>1.462800e+04</td>\n",
       "      <td>14628.000000</td>\n",
       "      <td>1.462800e+04</td>\n",
       "      <td>14628.000000</td>\n",
       "    </tr>\n",
       "    <tr>\n",
       "      <th>mean</th>\n",
       "      <td>7313.500000</td>\n",
       "      <td>169.101859</td>\n",
       "      <td>376.915846</td>\n",
       "      <td>5.959984e+06</td>\n",
       "      <td>19.714247</td>\n",
       "      <td>1.644158e+04</td>\n",
       "      <td>8748.507085</td>\n",
       "    </tr>\n",
       "    <tr>\n",
       "      <th>std</th>\n",
       "      <td>4222.884204</td>\n",
       "      <td>131.235473</td>\n",
       "      <td>211.208734</td>\n",
       "      <td>2.415651e+06</td>\n",
       "      <td>19.532475</td>\n",
       "      <td>5.440348e+04</td>\n",
       "      <td>20132.605128</td>\n",
       "    </tr>\n",
       "    <tr>\n",
       "      <th>min</th>\n",
       "      <td>0.000000</td>\n",
       "      <td>1.000000</td>\n",
       "      <td>0.000000</td>\n",
       "      <td>2.896184e+06</td>\n",
       "      <td>0.000000</td>\n",
       "      <td>0.000000e+00</td>\n",
       "      <td>-21922.000000</td>\n",
       "    </tr>\n",
       "    <tr>\n",
       "      <th>25%</th>\n",
       "      <td>3656.750000</td>\n",
       "      <td>67.000000</td>\n",
       "      <td>241.000000</td>\n",
       "      <td>3.335241e+06</td>\n",
       "      <td>1.000000</td>\n",
       "      <td>1.311000e+01</td>\n",
       "      <td>101.000000</td>\n",
       "    </tr>\n",
       "    <tr>\n",
       "      <th>50%</th>\n",
       "      <td>7313.500000</td>\n",
       "      <td>142.000000</td>\n",
       "      <td>346.000000</td>\n",
       "      <td>5.386502e+06</td>\n",
       "      <td>29.000000</td>\n",
       "      <td>2.178835e+03</td>\n",
       "      <td>2702.000000</td>\n",
       "    </tr>\n",
       "    <tr>\n",
       "      <th>75%</th>\n",
       "      <td>10970.250000</td>\n",
       "      <td>245.000000</td>\n",
       "      <td>531.000000</td>\n",
       "      <td>8.363922e+06</td>\n",
       "      <td>30.000000</td>\n",
       "      <td>1.020933e+04</td>\n",
       "      <td>10002.000000</td>\n",
       "    </tr>\n",
       "    <tr>\n",
       "      <th>max</th>\n",
       "      <td>14627.000000</td>\n",
       "      <td>582.000000</td>\n",
       "      <td>843.000000</td>\n",
       "      <td>1.107917e+07</td>\n",
       "      <td>1096.000000</td>\n",
       "      <td>1.161553e+06</td>\n",
       "      <td>348318.000000</td>\n",
       "    </tr>\n",
       "  </tbody>\n",
       "</table>\n",
       "</div>"
      ],
      "text/plain": [
       "              index         TDS #           EDP  UMIS BILL ID        # days  \\\n",
       "count  14628.000000  14628.000000  14628.000000  1.462800e+04  14628.000000   \n",
       "mean    7313.500000    169.101859    376.915846  5.959984e+06     19.714247   \n",
       "std     4222.884204    131.235473    211.208734  2.415651e+06     19.532475   \n",
       "min        0.000000      1.000000      0.000000  2.896184e+06      0.000000   \n",
       "25%     3656.750000     67.000000    241.000000  3.335241e+06      1.000000   \n",
       "50%     7313.500000    142.000000    346.000000  5.386502e+06     29.000000   \n",
       "75%    10970.250000    245.000000    531.000000  8.363922e+06     30.000000   \n",
       "max    14627.000000    582.000000    843.000000  1.107917e+07   1096.000000   \n",
       "\n",
       "       Current Charges  Consumption (GAL)  \n",
       "count     1.462800e+04       14628.000000  \n",
       "mean      1.644158e+04        8748.507085  \n",
       "std       5.440348e+04       20132.605128  \n",
       "min       0.000000e+00      -21922.000000  \n",
       "25%       1.311000e+01         101.000000  \n",
       "50%       2.178835e+03        2702.000000  \n",
       "75%       1.020933e+04       10002.000000  \n",
       "max       1.161553e+06      348318.000000  "
      ]
     },
     "execution_count": 4,
     "metadata": {},
     "output_type": "execute_result"
    }
   ],
   "source": [
    "df.describe()"
   ]
  },
  {
   "cell_type": "markdown",
   "metadata": {},
   "source": [
    "We can select a couple of key features of interest to take a closer look at."
   ]
  },
  {
   "cell_type": "code",
   "execution_count": 24,
   "metadata": {},
   "outputs": [
    {
     "data": {
      "text/html": [
       "<div>\n",
       "<style scoped>\n",
       "    .dataframe tbody tr th:only-of-type {\n",
       "        vertical-align: middle;\n",
       "    }\n",
       "\n",
       "    .dataframe tbody tr th {\n",
       "        vertical-align: top;\n",
       "    }\n",
       "\n",
       "    .dataframe thead th {\n",
       "        text-align: right;\n",
       "    }\n",
       "</style>\n",
       "<table border=\"1\" class=\"dataframe\">\n",
       "  <thead>\n",
       "    <tr style=\"text-align: right;\">\n",
       "      <th></th>\n",
       "      <th># days</th>\n",
       "      <th>Current Charges</th>\n",
       "      <th>Consumption (GAL)</th>\n",
       "    </tr>\n",
       "  </thead>\n",
       "  <tbody>\n",
       "    <tr>\n",
       "      <th>0</th>\n",
       "      <td>33</td>\n",
       "      <td>303.47</td>\n",
       "      <td>148.0</td>\n",
       "    </tr>\n",
       "    <tr>\n",
       "      <th>1</th>\n",
       "      <td>30</td>\n",
       "      <td>504.41</td>\n",
       "      <td>246.0</td>\n",
       "    </tr>\n",
       "    <tr>\n",
       "      <th>2</th>\n",
       "      <td>29</td>\n",
       "      <td>200.94</td>\n",
       "      <td>98.0</td>\n",
       "    </tr>\n",
       "    <tr>\n",
       "      <th>3</th>\n",
       "      <td>28</td>\n",
       "      <td>789.42</td>\n",
       "      <td>385.0</td>\n",
       "    </tr>\n",
       "    <tr>\n",
       "      <th>4</th>\n",
       "      <td>30</td>\n",
       "      <td>488.01</td>\n",
       "      <td>238.0</td>\n",
       "    </tr>\n",
       "  </tbody>\n",
       "</table>\n",
       "</div>"
      ],
      "text/plain": [
       "   # days  Current Charges  Consumption (GAL)\n",
       "0      33           303.47              148.0\n",
       "1      30           504.41              246.0\n",
       "2      29           200.94               98.0\n",
       "3      28           789.42              385.0\n",
       "4      30           488.01              238.0"
      ]
     },
     "execution_count": 24,
     "metadata": {},
     "output_type": "execute_result"
    }
   ],
   "source": [
    "cdf = df[['# days','Current Charges','Consumption (GAL)']]\n",
    "cdf.drop(cdf[cdf['Current Charges'] == 0].index)\n",
    "cdf.head()"
   ]
  },
  {
   "cell_type": "code",
   "execution_count": 26,
   "metadata": {},
   "outputs": [
    {
     "data": {
      "image/png": "[encoded data removed]",
      "text/plain": [
       "<Figure size 432x288 with 4 Axes>"
      ]
     },
     "metadata": {
      "needs_background": "light"
     },
     "output_type": "display_data"
    }
   ],
   "source": [
    "cdf.hist()\n",
    "plt.show()"
   ]
  },
  {
   "cell_type": "markdown",
   "metadata": {},
   "source": [
    "We can plot features against current charges to see if the relationship is linear."
   ]
  },
  {
   "cell_type": "code",
   "execution_count": 27,
   "metadata": {},
   "outputs": [
    {
     "data": {
      "image/png": "[encoded data removed]",
      "text/plain": [
       "<Figure size 432x288 with 1 Axes>"
      ]
     },
     "metadata": {
      "needs_background": "light"
     },
     "output_type": "display_data"
    }
   ],
   "source": [
    "plt.scatter(cdf['Consumption (GAL)'],cdf['Current Charges'],color = 'black')\n",
    "plt.xlabel('Consumption (GAL)')\n",
    "plt.ylabel('Charges')\n",
    "plt.show()"
   ]
  },
  {
   "cell_type": "markdown",
   "metadata": {},
   "source": [
    "### Creating a train and test dataset"
   ]
  },
  {
   "cell_type": "markdown",
   "metadata": {},
   "source": [
    "We can split our dataset into train and test sets, with 80% assigned to the training set and 20% to the test set. We can also select random rows using the np.random.rand() function"
   ]
  },
  {
   "cell_type": "code",
   "execution_count": 28,
   "metadata": {},
   "outputs": [],
   "source": [
    "msk = np.random.rand(len(cdf)) < 0.8\n",
    "train = cdf[msk]\n",
    "test = cdf[~msk]"
   ]
  },
  {
   "cell_type": "markdown",
   "metadata": {},
   "source": [
    "## Creating our Linear Regression Model"
   ]
  },
  {
   "cell_type": "markdown",
   "metadata": {},
   "source": [
    "A linear regression model finds coefficients that minimze the sum of the squares of the residuals between true values and predicted values. "
   ]
  },
  {
   "cell_type": "code",
   "execution_count": 29,
   "metadata": {},
   "outputs": [
    {
     "data": {
      "image/png": "[encoded data removed]",
      "text/plain": [
       "<Figure size 432x288 with 1 Axes>"
      ]
     },
     "metadata": {
      "needs_background": "light"
     },
     "output_type": "display_data"
    }
   ],
   "source": [
    "plt.scatter(train['Consumption (GAL)'],train['Current Charges'],color = 'blue')\n",
    "plt.xlabel('Consumption (GAL)')\n",
    "plt.ylabel('Distribution of train data Charges')\n",
    "plt.show()"
   ]
  },
  {
   "cell_type": "markdown",
   "metadata": {},
   "source": [
    "### Modeling"
   ]
  },
  {
   "cell_type": "code",
   "execution_count": 31,
   "metadata": {},
   "outputs": [
    {
     "name": "stdout",
     "output_type": "stream",
     "text": [
      "Coefficients: [[2.31356067]]\n",
      "Intercept: [-3872.25259542]\n"
     ]
    }
   ],
   "source": [
    "from sklearn import linear_model\n",
    "regr = linear_model.LinearRegression()\n",
    "train_x = np.asanyarray(train[['Consumption (GAL)']])\n",
    "train_y = np.asanyarray(train[['Current Charges']])\n",
    "regr.fit(train_x,train_y)\n",
    "\n",
    "#coefficients\n",
    "print('Coefficients:', regr.coef_)\n",
    "print('Intercept:', regr.intercept_)"
   ]
  },
  {
   "cell_type": "markdown",
   "metadata": {},
   "source": [
    "### Plot Outputs"
   ]
  },
  {
   "cell_type": "code",
   "execution_count": 33,
   "metadata": {},
   "outputs": [
    {
     "data": {
      "text/plain": [
       "Text(0, 0.5, 'Current Charges')"
      ]
     },
     "execution_count": 33,
     "metadata": {},
     "output_type": "execute_result"
    },
    {
     "data": {
      "image/png": "[encoded data removed]",
      "text/plain": [
       "<Figure size 432x288 with 1 Axes>"
      ]
     },
     "metadata": {
      "needs_background": "light"
     },
     "output_type": "display_data"
    }
   ],
   "source": [
    "plt.scatter(train['Consumption (GAL)'], train['Current Charges'], color = 'black')\n",
    "plt.plot(train_x, regr.coef_[0][0]*train_x + regr.intercept_[0],'-r')\n",
    "plt.xlabel(\"Consumption (GAL)\")\n",
    "plt.ylabel(\"Current Charges\")\n"
   ]
  },
  {
   "cell_type": "markdown",
   "metadata": {},
   "source": [
    "### Evaluation"
   ]
  },
  {
   "cell_type": "code",
   "execution_count": 35,
   "metadata": {},
   "outputs": [
    {
     "name": "stdout",
     "output_type": "stream",
     "text": [
      "R2-score: 0.81\n"
     ]
    }
   ],
   "source": [
    "from sklearn.metrics import r2_score\n",
    "\n",
    "test_x = np.asanyarray(test[['Consumption (GAL)']])\n",
    "test_y = np.asanyarray(test[['Current Charges']])\n",
    "test_y_ = regr.predict(test_x)\n",
    "\n",
    "print(\"R2-score: %.2f\" % r2_score(test_y, test_y_))"
   ]
  },
  {
   "cell_type": "code",
   "execution_count": null,
   "metadata": {},
   "outputs": [],
   "source": []
  }
 ],
 "metadata": {
  "kernelspec": {
   "display_name": "Python 3",
   "language": "python",
   "name": "python3"
  },
  "language_info": {
   "codemirror_mode": {
    "name": "ipython",
    "version": 3
   },
   "file_extension": ".py",
   "mimetype": "text/x-python",
   "name": "python",
   "nbconvert_exporter": "python",
   "pygments_lexer": "ipython3",
   "version": "3.8.5"
  }
 },
 "nbformat": 4,
 "nbformat_minor": 4
}
